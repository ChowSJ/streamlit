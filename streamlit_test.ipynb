{
 "cells": [
  {
   "cell_type": "code",
   "execution_count": 1,
   "metadata": {},
   "outputs": [],
   "source": [
    "import pandas as pd\n",
    "import numpy as np\n",
    "import requests\n",
    "import io\n",
    "import re\n",
    "import datetime\n",
    "\n",
    "from bokeh.plotting import figure,show\n",
    "\n"
   ]
  },
  {
   "cell_type": "code",
   "execution_count": null,
   "metadata": {},
   "outputs": [],
   "source": []
  },
  {
   "cell_type": "code",
   "execution_count": 3,
   "metadata": {},
   "outputs": [],
   "source": [
    "def func_extract_info(function_call,symbol,datatype):\n",
    "    df_1=pd.DataFrame([])\n",
    "    for i in range(len(symbol)):\n",
    "        url= 'https://www.alphavantage.co/query?function={}&symbol={}&datatype={}&apikey=D2L2TRRTVX26H02F'.format(function_call,symbol[i],datatype)\n",
    "        r=requests.get(url=url)\n",
    "        data=io.StringIO(r.text)\n",
    "        df=pd.read_csv(data)\n",
    "        df['Symbol']=symbol[i]\n",
    "        df['timestamp']=pd.to_datetime(df['timestamp'])\n",
    "        df_1=pd.concat([df_1,df])\n",
    "    return df_1\n",
    "\n",
    "df_stock=func_extract_info(function_call='TIME_SERIES_DAILY',symbol=['BMY','PFE','GOOG','AAPL','AZN','GILD','AMGN','NVS'],datatype='csv')\n",
    "\n",
    "\n"
   ]
  },
  {
   "cell_type": "code",
   "execution_count": 4,
   "metadata": {},
   "outputs": [],
   "source": [
    "df_stock.sort_values(by=['Symbol','timestamp'],inplace=True)"
   ]
  },
  {
   "cell_type": "code",
   "execution_count": null,
   "metadata": {},
   "outputs": [],
   "source": [
    "#df_stock=pd.read_csv('stock_data\\df_stock.csv',index_col=0)"
   ]
  },
  {
   "cell_type": "code",
   "execution_count": 5,
   "metadata": {},
   "outputs": [],
   "source": [
    "df_stock.reset_index(inplace=True)"
   ]
  },
  {
   "cell_type": "code",
   "execution_count": 6,
   "metadata": {},
   "outputs": [],
   "source": [
    "df_stock_rolling=df_stock.groupby(by='Symbol')['close'].rolling(2).mean().round(2)"
   ]
  },
  {
   "cell_type": "code",
   "execution_count": 7,
   "metadata": {},
   "outputs": [],
   "source": [
    "df_stock_rolling.reset_index(drop=True,inplace=True)"
   ]
  },
  {
   "cell_type": "code",
   "execution_count": 8,
   "metadata": {},
   "outputs": [],
   "source": [
    "df_test=pd.merge(left=df_stock,right=df_stock_rolling,left_index=True,right_index=True,suffixes=('','_rolling'))"
   ]
  },
  {
   "cell_type": "code",
   "execution_count": null,
   "metadata": {},
   "outputs": [],
   "source": [
    "df_stock[df_test['Symbol']=='AAPL']"
   ]
  }
 ],
 "metadata": {
  "kernelspec": {
   "display_name": "Python 3",
   "language": "python",
   "name": "python3"
  },
  "language_info": {
   "codemirror_mode": {
    "name": "ipython",
    "version": 3
   },
   "file_extension": ".py",
   "mimetype": "text/x-python",
   "name": "python",
   "nbconvert_exporter": "python",
   "pygments_lexer": "ipython3",
   "version": "3.11.9"
  }
 },
 "nbformat": 4,
 "nbformat_minor": 2
}
